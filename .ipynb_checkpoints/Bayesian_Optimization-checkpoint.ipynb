{
 "cells": [
  {
   "cell_type": "code",
   "execution_count": 1,
   "id": "291f1509-4a15-4e1c-9606-7973f148f623",
   "metadata": {},
   "outputs": [],
   "source": [
    "import os \n",
    "import torch \n",
    "import numpy as np \n",
    "import plotly"
   ]
  },
  {
   "cell_type": "code",
   "execution_count": null,
   "id": "d6fa35ff-c776-4283-9a26-adc64e6e10eb",
   "metadata": {},
   "outputs": [],
   "source": [
    "def target_function(individuals):\n",
    "    \"\"\"\n",
    "    individuals: torch tensor - list of lists (one or several inputs)\n",
    "    \"\"\"\n",
    "    result = [] \n",
    "    for x in individuals: \n",
    "        result.append(np.exp(-x[0] - 2)**2 + np.exp(-(x[0] - 6)**2/10) + 1/(x[0]**2 + 1))\n",
    "    return torch.tensor(result) "
   ]
  },
  {
   "cell_type": "code",
   "execution_count": 2,
   "id": "ddbf1be0-a198-45a0-ab99-eb255151a13e",
   "metadata": {},
   "outputs": [],
   "source": [
    "import plotly.graph_objects as go \n",
    "\n",
    "x = np.linspace(-2.,10.,100)\n",
    "x_new = x.reshape((100, -1))\n",
    "z "
   ]
  },
  {
   "cell_type": "code",
   "execution_count": null,
   "id": "bca27aaa-a688-4b49-8ac8-eb8286914a65",
   "metadata": {},
   "outputs": [],
   "source": []
  }
 ],
 "metadata": {
  "kernelspec": {
   "display_name": "Python 3 (ipykernel)",
   "language": "python",
   "name": "python3"
  },
  "language_info": {
   "codemirror_mode": {
    "name": "ipython",
    "version": 3
   },
   "file_extension": ".py",
   "mimetype": "text/x-python",
   "name": "python",
   "nbconvert_exporter": "python",
   "pygments_lexer": "ipython3",
   "version": "3.8.19"
  }
 },
 "nbformat": 4,
 "nbformat_minor": 5
}
